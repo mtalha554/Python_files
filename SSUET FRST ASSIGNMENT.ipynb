{
 "cells": [
  {
   "cell_type": "code",
   "execution_count": 2,
   "metadata": {},
   "outputs": [
    {
     "name": "stdout",
     "output_type": "stream",
     "text": [
      "BIO DATA\n",
      "\n",
      "Name : Muahmmad Talha\n",
      "Age : 24\n",
      "Qualification : BBA\n",
      "City : Karachi\n"
     ]
    }
   ],
   "source": [
    "bio = (\"BIO DATA\")\n",
    "\n",
    "name = (\"Muahmmad Talha\")\n",
    "\n",
    "age = (\"24\")\n",
    "\n",
    "education = (\"BBA\")\n",
    "\n",
    "city = (\"Karachi\")\n",
    "\n",
    "\n",
    "print(bio)\n",
    "print(\"\")\n",
    "\n",
    "print(\"Name :\" , name)\n",
    "\n",
    "print(\"Age :\" , age)\n",
    "\n",
    "print(\"Qualification :\" , education)\n",
    "\n",
    "print(\"City :\" , city)"
   ]
  },
  {
   "cell_type": "code",
   "execution_count": null,
   "metadata": {},
   "outputs": [],
   "source": []
  }
 ],
 "metadata": {
  "kernelspec": {
   "display_name": "Python 3",
   "language": "python",
   "name": "python3"
  },
  "language_info": {
   "codemirror_mode": {
    "name": "ipython",
    "version": 3
   },
   "file_extension": ".py",
   "mimetype": "text/x-python",
   "name": "python",
   "nbconvert_exporter": "python",
   "pygments_lexer": "ipython3",
   "version": "3.7.4"
  }
 },
 "nbformat": 4,
 "nbformat_minor": 2
}
